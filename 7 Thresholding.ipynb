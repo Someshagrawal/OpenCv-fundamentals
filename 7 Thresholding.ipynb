{
 "cells": [
  {
   "cell_type": "code",
   "execution_count": 1,
   "metadata": {},
   "outputs": [],
   "source": [
    "import numpy as np\n",
    "import cv2"
   ]
  },
  {
   "cell_type": "code",
   "execution_count": 2,
   "metadata": {},
   "outputs": [],
   "source": [
    "#Importing coins image to visualize thresholding properly\n",
    "image = cv2.imread('coins.jpg')\n",
    "\n",
    "cv2.imshow('Original Image', image)\n",
    "cv2.waitKey(0)\n",
    "cv2.destroyAllWindows()"
   ]
  },
  {
   "cell_type": "code",
   "execution_count": 3,
   "metadata": {},
   "outputs": [],
   "source": [
    "#Thresholding is nothing but Binarization of our Image(Replacing all pixels with just two numbers, 0 and 255)\n",
    "#To do this, first we have to convert our image to GrayScale \n",
    "image = cv2.cvtColor(image, cv2.COLOR_BGR2GRAY)\n",
    "\n",
    "#Now we have to remove noise using blurring, here we are using GaussianBlur\n",
    "image = cv2.GaussianBlur(image, (5, 5), 0)\n",
    "\n",
    "cv2.imshow('Blurred Gray Image', image)\n",
    "cv2.waitKey(0)\n",
    "cv2.destroyAllWindows()"
   ]
  },
  {
   "cell_type": "code",
   "execution_count": 4,
   "metadata": {},
   "outputs": [],
   "source": [
    "#Now we are appling our threshold funtion\n",
    "#cv2.threshold(image, <Threshold value>, <Max value of binary>, cv2.<method>)\n",
    "#It returns two values 1st is our given Threshold value and second is threshold image after binarization\n",
    "(T, thresh) = cv2.threshold(image, 140, 255, cv2.THRESH_BINARY)\n",
    "\n",
    "cv2.imshow('Threshold Image', thresh)\n",
    "cv2.waitKey(0)\n",
    "cv2.destroyAllWindows()"
   ]
  },
  {
   "cell_type": "code",
   "execution_count": 5,
   "metadata": {},
   "outputs": [],
   "source": [
    "#We can also have inverse binarization\n",
    "(T, thresh_inv) = cv2.threshold(image, 140, 255, cv2.THRESH_BINARY_INV)\n",
    "\n",
    "cv2.imshow('Threshold Image', thresh_inv)\n",
    "cv2.waitKey(0)\n",
    "cv2.destroyAllWindows()"
   ]
  },
  {
   "cell_type": "code",
   "execution_count": 6,
   "metadata": {},
   "outputs": [],
   "source": [
    "#using Inverse binarization to see only coins in our image\n",
    "cv2.imshow(\"Coins\", cv2.bitwise_and(image, image, mask = thresh_inv))\n",
    "cv2.waitKey(0)\n",
    "cv2.destroyAllWindows()"
   ]
  },
  {
   "cell_type": "code",
   "execution_count": 7,
   "metadata": {},
   "outputs": [],
   "source": [
    "#Lets see adaptive threshold in action\n",
    "#It calculate threshold for each pixel according to its neighborhood pixels\n",
    "#1st argument is image, 2nd is Max_value, 3rd is adaptive thresholding method\n",
    "#4th is thresholding method, 5th is kernel diameter for calculation(remember it should be odd) and 6th is a value C\n",
    "#Value C is a constant that is subtracted from mean calculated by adaptive method before its binarization\n",
    "Athresh1 = cv2.adaptiveThreshold(image, 255, cv2.ADAPTIVE_THRESH_MEAN_C, cv2.THRESH_BINARY_INV, 11, 4)\n",
    "\n",
    "cv2.imshow('Mean Adaptive threshold image', Athresh1)\n",
    "cv2.waitKey(0)\n",
    "cv2.destroyAllWindows()"
   ]
  },
  {
   "cell_type": "code",
   "execution_count": 8,
   "metadata": {},
   "outputs": [],
   "source": [
    "Athresh1 = cv2.adaptiveThreshold(image, 255, cv2.ADAPTIVE_THRESH_GAUSSIAN_C, cv2.THRESH_BINARY_INV, 15, 3)\n",
    "\n",
    "cv2.imshow('Gaussian Adaptive threshold image', Athresh1)\n",
    "cv2.waitKey(0)\n",
    "cv2.destroyAllWindows()"
   ]
  },
  {
   "cell_type": "code",
   "execution_count": null,
   "metadata": {},
   "outputs": [],
   "source": [
    "#Play with kernel daimeter and C to find a correct threshold image that differ coins and other space correctly"
   ]
  }
 ],
 "metadata": {
  "kernelspec": {
   "display_name": "Python 3",
   "language": "python",
   "name": "python3"
  },
  "language_info": {
   "codemirror_mode": {
    "name": "ipython",
    "version": 3
   },
   "file_extension": ".py",
   "mimetype": "text/x-python",
   "name": "python",
   "nbconvert_exporter": "python",
   "pygments_lexer": "ipython3",
   "version": "3.7.7"
  }
 },
 "nbformat": 4,
 "nbformat_minor": 4
}
