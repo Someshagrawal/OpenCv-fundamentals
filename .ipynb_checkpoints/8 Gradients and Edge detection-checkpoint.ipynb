{
 "cells": [
  {
   "cell_type": "code",
   "execution_count": 1,
   "metadata": {},
   "outputs": [],
   "source": [
    "import numpy as np\n",
    "import cv2"
   ]
  },
  {
   "cell_type": "code",
   "execution_count": 2,
   "metadata": {},
   "outputs": [],
   "source": [
    "#Importing coins image to visualize thresholding properly\n",
    "image = cv2.imread('coins.jpg')\n",
    "\n",
    "cv2.imshow('Original Image', image)\n",
    "cv2.waitKey(0)\n",
    "cv2.destroyAllWindows()"
   ]
  },
  {
   "cell_type": "code",
   "execution_count": 3,
   "metadata": {},
   "outputs": [],
   "source": [
    "#converting image to GrayScale\n",
    "image = cv2.cvtColor(image, cv2.COLOR_BGR2GRAY)\n",
    "\n",
    "cv2.imshow('Gray Image', image)\n",
    "cv2.waitKey(0)\n",
    "cv2.destroyAllWindows()"
   ]
  },
  {
   "cell_type": "code",
   "execution_count": 4,
   "metadata": {},
   "outputs": [],
   "source": [
    "#Using Laplacian gradient method to find edges\n",
    "#1st argument is our GrayScale image and 2nd argument is our data type for output image\n",
    "#we are using 64-bit float integers here so that we can find positive and negative slopes easily\n",
    "lap = cv2.Laplacian(image, cv2.CV_64F)\n",
    "\n",
    "#converting 64-bit floats to 8-bit integers again\n",
    "lap = np.uint8(np.absolute(lap))\n",
    "\n",
    "cv2.imshow(\"Laplacian image\", lap)\n",
    "cv2.waitKey(0)\n",
    "cv2.destroyAllWindows()"
   ]
  },
  {
   "cell_type": "code",
   "execution_count": 5,
   "metadata": {},
   "outputs": [],
   "source": [
    "#Now lets use Sobel edge detector\n",
    "#it detect edges in x-axis and y-axis seprately\n",
    "#Its first 2 arguments are same as laplacian detector\n",
    "#3rd and 4th argument are representing horizontal and vertical axis (1, 0) is x-axis, (0, 1) is y-axis\n",
    "\n",
    "#determining x-axis edges\n",
    "sobelX = cv2.Sobel(image, cv2.CV_64F, 1, 0)\n",
    "sobelY = cv2.Sobel(image, cv2.CV_64F, 0, 1)\n",
    "\n",
    "#converting 64-bit float numbers to 8-bit unsigned numbers\n",
    "sobelX = np.uint8(np.absolute(sobelX))\n",
    "sobelY = np.uint8(np.absolute(sobelY))\n",
    "\n",
    "#combining both detected edges as 1\n",
    "sobel = cv2.bitwise_or(sobelX, sobelY)\n",
    "\n",
    "cv2.imshow(\"Sobel X\", sobelX)\n",
    "cv2.imshow(\"Sobel Y\", sobelY)\n",
    "cv2.imshow(\"Sobel Combined\", sobel)\n",
    "cv2.waitKey(0)\n",
    "cv2.destroyAllWindows()"
   ]
  },
  {
   "cell_type": "code",
   "execution_count": 6,
   "metadata": {},
   "outputs": [],
   "source": [
    "#Lets see canny edge detector\n",
    "canny = cv2.Canny(image, 30, 150)\n",
    "\n",
    "cv2.imshow(\"Canny image\", canny)\n",
    "cv2.waitKey(0)\n",
    "cv2.destroyAllWindows()"
   ]
  },
  {
   "cell_type": "code",
   "execution_count": 7,
   "metadata": {},
   "outputs": [],
   "source": [
    "#using canny with a little blurred image\n",
    "image = cv2.GaussianBlur(image, (5, 5), 0)\n",
    "\n",
    "canny2 = cv2.Canny(image, 30, 150)\n",
    "\n",
    "cv2.imshow(\"Blurred Canny image\", canny2)\n",
    "cv2.waitKey(0)\n",
    "cv2.destroyAllWindows()"
   ]
  },
  {
   "cell_type": "code",
   "execution_count": null,
   "metadata": {},
   "outputs": [],
   "source": [
    "#we can see that blurred canny gives us far better edges"
   ]
  }
 ],
 "metadata": {
  "kernelspec": {
   "display_name": "Python 3",
   "language": "python",
   "name": "python3"
  },
  "language_info": {
   "codemirror_mode": {
    "name": "ipython",
    "version": 3
   },
   "file_extension": ".py",
   "mimetype": "text/x-python",
   "name": "python",
   "nbconvert_exporter": "python",
   "pygments_lexer": "ipython3",
   "version": "3.7.7"
  }
 },
 "nbformat": 4,
 "nbformat_minor": 4
}
