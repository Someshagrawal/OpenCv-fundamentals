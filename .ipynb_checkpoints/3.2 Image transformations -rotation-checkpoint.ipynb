{
 "cells": [
  {
   "cell_type": "code",
   "execution_count": 1,
   "metadata": {},
   "outputs": [],
   "source": [
    "import numpy as np\n",
    "import cv2"
   ]
  },
  {
   "cell_type": "code",
   "execution_count": 2,
   "metadata": {},
   "outputs": [],
   "source": [
    "#Importing the test image\n",
    "img = cv2.imread('test.jpeg')\n",
    "cv2.imshow('Image', img)\n",
    "cv2.waitKey(0)\n",
    "cv2.destroyAllWindows()"
   ]
  },
  {
   "cell_type": "code",
   "execution_count": 3,
   "metadata": {},
   "outputs": [],
   "source": [
    "#Defining center of image to rotate\n",
    "(h, w) = img.shape[:2]\n",
    "center = (w//2, h//2)"
   ]
  },
  {
   "cell_type": "code",
   "execution_count": 4,
   "metadata": {},
   "outputs": [],
   "source": [
    "#Defining a roatation Matrix to use, here we use getRotationMatrix2D function of cv2 instead of numpy array\n",
    "#its 1st argument is center of image, 2nd argument is degree of rotation and 3rd argument is scale factor\n",
    "#Scale factor is used to resize the image, 1.0 means same image, 2.0 means doubled size image and 0.5 means half sized image\n",
    "M = cv2.getRotationMatrix2D(center, 45, 1.0)\n",
    "\n",
    "#Creating a new rotated image\n",
    "rotated = cv2.warpAffine(img, M, (w, h))\n",
    "\n",
    "#Showing rotated Image\n",
    "cv2.imshow(\"Rotated image by 45 degree\", rotated)\n",
    "cv2.waitKey(0)\n",
    "cv2.destroyAllWindows()"
   ]
  },
  {
   "cell_type": "code",
   "execution_count": 5,
   "metadata": {},
   "outputs": [],
   "source": [
    "#Lets create a function to archieve it smoothly without a lot of code again and again\n",
    "#Here, if center and scale is not given by the user\n",
    "#then function use the default values of them specified in function as None and 1.0\n",
    "def rotate(image, angle, center=None, scale=1.0):\n",
    "    (h, w) = image.shape[0:2]\n",
    "    if center is None:\n",
    "        center = (w//2, h//2)\n",
    "    M = cv2.getRotationMatrix2D(center, angle, scale)\n",
    "    rotated = cv2.warpAffine(image, M, (w, h))\n",
    "    return rotated"
   ]
  },
  {
   "cell_type": "code",
   "execution_count": 8,
   "metadata": {},
   "outputs": [],
   "source": [
    "#Lets use our function to rotate our image by -90 degree\n",
    "rotated = rotate(img, -90)\n",
    "cv2.imshow(\"Rotated image by -90 degreee\", rotated)\n",
    "cv2.waitKey(0)\n",
    "cv2.destroyAllWindows()"
   ]
  },
  {
   "cell_type": "code",
   "execution_count": null,
   "metadata": {},
   "outputs": [],
   "source": []
  }
 ],
 "metadata": {
  "kernelspec": {
   "display_name": "Python 3",
   "language": "python",
   "name": "python3"
  },
  "language_info": {
   "codemirror_mode": {
    "name": "ipython",
    "version": 3
   },
   "file_extension": ".py",
   "mimetype": "text/x-python",
   "name": "python",
   "nbconvert_exporter": "python",
   "pygments_lexer": "ipython3",
   "version": "3.7.7"
  }
 },
 "nbformat": 4,
 "nbformat_minor": 4
}
