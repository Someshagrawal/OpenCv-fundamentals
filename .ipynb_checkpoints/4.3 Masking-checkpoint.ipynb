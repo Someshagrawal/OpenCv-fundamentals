{
 "cells": [
  {
   "cell_type": "code",
   "execution_count": 1,
   "metadata": {},
   "outputs": [],
   "source": [
    "import numpy as np\n",
    "import cv2"
   ]
  },
  {
   "cell_type": "code",
   "execution_count": 3,
   "metadata": {},
   "outputs": [],
   "source": [
    "#Importing test image\n",
    "image = cv2.imread('test.jpeg')\n",
    "\n",
    "cv2.imshow('Image', image)\n",
    "cv2.waitKey(0)\n",
    "cv2.destroyAllWindows()"
   ]
  },
  {
   "cell_type": "code",
   "execution_count": 5,
   "metadata": {},
   "outputs": [],
   "source": [
    "#Creating a mask\n",
    "mask = np.zeros(image.shape[:2], dtype='uint8')\n",
    "\n",
    "#Finding Center of image\n",
    "(cX, cY) = (image.shape[1] // 2, image.shape[0] // 2)\n",
    "\n",
    "#creating a rectangle on mask\n",
    "cv2.rectangle(mask, (cX - 75, cY - 75), (cX + 75, cY + 75), 255, -1)\n",
    "\n",
    "cv2.imshow('mask', mask)\n",
    "cv2.waitKey(0)\n",
    "cv2.destroyAllWindows()"
   ]
  },
  {
   "cell_type": "code",
   "execution_count": 6,
   "metadata": {},
   "outputs": [],
   "source": [
    "#creating masked image\n",
    "#Here we use bitwise_and operation with both image argument as same image\n",
    "#So, all pixels are matched and retrun same single image\n",
    "#but with mask argument only those pixels are analyzed which are available as 1 in mask\n",
    "masked = cv2.bitwise_and(image, image, mask = mask)\n",
    "\n",
    "cv2.imshow('masked Image', masked)\n",
    "cv2.waitKey(0)\n",
    "cv2.destroyAllWindows()"
   ]
  },
  {
   "cell_type": "code",
   "execution_count": 7,
   "metadata": {},
   "outputs": [],
   "source": [
    "#Lets create a Circular mask\n",
    "mask = np.zeros(image.shape[:2], dtype='uint8')\n",
    "\n",
    "#creating a circular on mask\n",
    "cv2.circle(mask, (cX, cY), 100, 255, -1)\n",
    "\n",
    "cv2.imshow('mask', mask)\n",
    "cv2.waitKey(0)\n",
    "cv2.destroyAllWindows()"
   ]
  },
  {
   "cell_type": "code",
   "execution_count": 8,
   "metadata": {},
   "outputs": [],
   "source": [
    "#Applying circular mask on our image\n",
    "masked = cv2.bitwise_and(image, image, mask = mask)\n",
    "\n",
    "cv2.imshow('masked Image', masked)\n",
    "cv2.waitKey(0)\n",
    "cv2.destroyAllWindows()"
   ]
  },
  {
   "cell_type": "code",
   "execution_count": null,
   "metadata": {},
   "outputs": [],
   "source": []
  }
 ],
 "metadata": {
  "kernelspec": {
   "display_name": "Python 3",
   "language": "python",
   "name": "python3"
  },
  "language_info": {
   "codemirror_mode": {
    "name": "ipython",
    "version": 3
   },
   "file_extension": ".py",
   "mimetype": "text/x-python",
   "name": "python",
   "nbconvert_exporter": "python",
   "pygments_lexer": "ipython3",
   "version": "3.7.7"
  }
 },
 "nbformat": 4,
 "nbformat_minor": 4
}
