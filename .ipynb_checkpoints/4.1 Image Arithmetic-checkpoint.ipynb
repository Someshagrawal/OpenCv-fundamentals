{
 "cells": [
  {
   "cell_type": "code",
   "execution_count": 1,
   "metadata": {},
   "outputs": [],
   "source": [
    "import numpy as np\n",
    "import cv2"
   ]
  },
  {
   "cell_type": "code",
   "execution_count": 2,
   "metadata": {},
   "outputs": [],
   "source": [
    "#Importing test image\n",
    "img = cv2.imread('test.jpeg')\n",
    "cv2.imshow('Image', img)\n",
    "cv2.waitKey(0)\n",
    "cv2.destroyAllWindows()"
   ]
  },
  {
   "cell_type": "code",
   "execution_count": 6,
   "metadata": {},
   "outputs": [
    {
     "name": "stdout",
     "output_type": "stream",
     "text": [
      "max of 0-255: [[255]]\n",
      "min of 0-255: [[0]]\n"
     ]
    }
   ],
   "source": [
    "#Adding two unsinged 8-bit integers\n",
    "\n",
    "#Using cv2.add function\n",
    "#cv2.add uses clipping to handle overflow and underflow\n",
    "\n",
    "print('max of 0-255: {}'.format(cv2.add(np.uint8([200]), np.uint8([100]))))\n",
    "\n",
    "print('min of 0-255: {}'.format(cv2.subtract(np.uint8([50]), np.uint8([100]))))"
   ]
  },
  {
   "cell_type": "code",
   "execution_count": 8,
   "metadata": {},
   "outputs": [
    {
     "name": "stdout",
     "output_type": "stream",
     "text": [
      "wrap around: [44]\n",
      "wrap around: [206]\n"
     ]
    }
   ],
   "source": [
    "#Using numpy array addtion and subtraction\n",
    "#Numpy array uses wrap around to handle overflow and underflow\n",
    "\n",
    "print('wrap around: {}'.format(np.uint8([200]) + np.uint8([100])))\n",
    "\n",
    "print('wrap around: {}'.format(np.uint8([50]) - np.uint8([100])))"
   ]
  },
  {
   "cell_type": "code",
   "execution_count": 11,
   "metadata": {},
   "outputs": [],
   "source": [
    "#Lets try arithmetic on a real image\n",
    "\n",
    "#Added Image\n",
    "M = np.ones(img.shape, dtype='uint8')*100\n",
    "added = cv2.add(img, M)\n",
    "\n",
    "cv2.imshow('Added Image', added)\n",
    "cv2.waitKey(0)\n",
    "cv2.destroyAllWindows()"
   ]
  },
  {
   "cell_type": "code",
   "execution_count": 12,
   "metadata": {},
   "outputs": [],
   "source": [
    "#Subtracted Image\n",
    "M = np.ones(img.shape, dtype='uint8')*50\n",
    "sub = cv2.subtract(img, M)\n",
    "\n",
    "cv2.imshow('Subtracted Image', sub)\n",
    "cv2.waitKey(0)\n",
    "cv2.destroyAllWindows()"
   ]
  },
  {
   "cell_type": "code",
   "execution_count": null,
   "metadata": {},
   "outputs": [],
   "source": []
  }
 ],
 "metadata": {
  "kernelspec": {
   "display_name": "Python 3",
   "language": "python",
   "name": "python3"
  },
  "language_info": {
   "codemirror_mode": {
    "name": "ipython",
    "version": 3
   },
   "file_extension": ".py",
   "mimetype": "text/x-python",
   "name": "python",
   "nbconvert_exporter": "python",
   "pygments_lexer": "ipython3",
   "version": "3.7.7"
  }
 },
 "nbformat": 4,
 "nbformat_minor": 4
}
