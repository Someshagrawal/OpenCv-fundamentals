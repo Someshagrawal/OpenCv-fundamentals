{
 "cells": [
  {
   "cell_type": "code",
   "execution_count": 1,
   "metadata": {},
   "outputs": [],
   "source": [
    "import numpy as np\n",
    "import cv2"
   ]
  },
  {
   "cell_type": "code",
   "execution_count": 2,
   "metadata": {},
   "outputs": [],
   "source": [
    "#Importing test image\n",
    "image = cv2.imread('test.jpeg')\n",
    "\n",
    "cv2.imshow('Original Image', image)\n",
    "cv2.waitKey(0)\n",
    "cv2.destroyAllWindows()"
   ]
  },
  {
   "cell_type": "code",
   "execution_count": 3,
   "metadata": {},
   "outputs": [],
   "source": [
    "#Blurring(Averaging) our image using three different 'kernel' sizes\n",
    "#The central pixel of kernel is simple mean of full kernel\n",
    "#We are stacking our three images to single image using numpy's hstack(Horizontal stack) function\n",
    "#Because we don't want three differnt windows for our images\n",
    "blurred = np.hstack([cv2.blur(image, (3, 3)), cv2.blur(image, (5, 5)), cv2.blur(image, (7, 7))])\n",
    "\n",
    "cv2.imshow('Averaged', blurred)\n",
    "cv2.waitKey(0)\n",
    "cv2.destroyAllWindows()"
   ]
  },
  {
   "cell_type": "code",
   "execution_count": 6,
   "metadata": {},
   "outputs": [],
   "source": [
    "#Gaussian blurring\n",
    "#In gaussian blurring we use weighted mean instead of simple mean\n",
    "#this means that near-by pixels has more 'weight' to the mean\n",
    "#here the 3rd argument is deviation along x-axis(setting it 0 means algorithm will compute it automatically)\n",
    "Gblurred = np.hstack([cv2.GaussianBlur(image, (3, 3), 0), cv2.GaussianBlur(image, (5, 5), 0), cv2.GaussianBlur(image, (7, 7), 0)])\n",
    "\n",
    "cv2.imshow('Gaussian Blur', Gblurred)\n",
    "cv2.waitKey(0)\n",
    "cv2.destroyAllWindows()"
   ]
  },
  {
   "cell_type": "code",
   "execution_count": 8,
   "metadata": {},
   "outputs": [],
   "source": [
    "#Median blurring\n",
    "#Same as averaging, the difference is that the middle pixel is replaced by median of the kernel pixel\n",
    "#This means the pixel is updated with a color already present in the kernel\n",
    "#Effective to remove salt-and-pepper noise from photograph\n",
    "#Unlike Averaging and gaussian blurring, meadian blurr doesn't create motion blurr it actually removes details from the photo \n",
    "Mblurred = np.hstack([cv2.medianBlur(image, 3), cv2.medianBlur(image, 5), cv2.medianBlur(image, 7)])\n",
    "\n",
    "cv2.imshow('Median Blur', Mblurred)\n",
    "cv2.waitKey(0)\n",
    "cv2.destroyAllWindows()"
   ]
  },
  {
   "cell_type": "code",
   "execution_count": 9,
   "metadata": {},
   "outputs": [],
   "source": [
    "#Bilateral Blurring\n",
    "#It preserves edges in the photograph\n",
    "#It uses two Gaussian functions\n",
    "#1st argument is image, 2nd argument is kernel diameter, 3rd argument is color deviation, 4th argument is space deviation\n",
    "Bblurred = np.hstack([cv2.bilateralFilter(image, 3, 21, 21), cv2.bilateralFilter(image, 5, 31, 31), cv2.bilateralFilter(image, 7, 41, 41)])\n",
    "\n",
    "cv2.imshow(\"Bilateral Blurr\", Bblurred)\n",
    "cv2.waitKey(0)\n",
    "cv2.destroyAllWindows()"
   ]
  },
  {
   "cell_type": "code",
   "execution_count": null,
   "metadata": {},
   "outputs": [],
   "source": []
  }
 ],
 "metadata": {
  "kernelspec": {
   "display_name": "Python 3",
   "language": "python",
   "name": "python3"
  },
  "language_info": {
   "codemirror_mode": {
    "name": "ipython",
    "version": 3
   },
   "file_extension": ".py",
   "mimetype": "text/x-python",
   "name": "python",
   "nbconvert_exporter": "python",
   "pygments_lexer": "ipython3",
   "version": "3.7.7"
  }
 },
 "nbformat": 4,
 "nbformat_minor": 4
}
