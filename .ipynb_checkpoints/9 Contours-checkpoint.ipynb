{
 "cells": [
  {
   "cell_type": "code",
   "execution_count": 1,
   "metadata": {},
   "outputs": [],
   "source": [
    "import numpy as np\n",
    "import cv2"
   ]
  },
  {
   "cell_type": "code",
   "execution_count": 2,
   "metadata": {},
   "outputs": [],
   "source": [
    "#Importing coins image to visualize thresholding properly\n",
    "image = cv2.imread('coins.jpg')\n",
    "\n",
    "cv2.imshow('Original Image', image)\n",
    "cv2.waitKey(0)\n",
    "cv2.destroyAllWindows()"
   ]
  },
  {
   "cell_type": "code",
   "execution_count": 3,
   "metadata": {},
   "outputs": [],
   "source": [
    "#converting image to GrayScale and then blurring it\n",
    "image = cv2.cvtColor(image, cv2.COLOR_BGR2GRAY)\n",
    "blurred = cv2.GaussianBlur(image, (9, 9), 0)\n",
    "\n",
    "cv2.imshow('Gray blur Image', blurred)\n",
    "cv2.waitKey(0)\n",
    "cv2.destroyAllWindows()"
   ]
  },
  {
   "cell_type": "code",
   "execution_count": 4,
   "metadata": {},
   "outputs": [],
   "source": [
    "#Applying canny edge detection\n",
    "edged = cv2.Canny(blurred, 60, 150)\n",
    "\n",
    "cv2.imshow('Edged Image', edged)\n",
    "cv2.waitKey(0)\n",
    "cv2.destroyAllWindows()"
   ]
  },
  {
   "cell_type": "code",
   "execution_count": 5,
   "metadata": {},
   "outputs": [
    {
     "name": "stdout",
     "output_type": "stream",
     "text": [
      "I count 43 coins in this image\n"
     ]
    }
   ],
   "source": [
    "#Finding Contours using cv2.findContours() function\n",
    "#1st argument is image on which we want to find contours\n",
    "#(Remember to use a copied image because findContours() function is destructive in nature)\n",
    "#2nd argument is type of contours we want(RETR_EXTERNAL, RETR_LIST, RETR_TREE)\n",
    "#3rd argument is how we want to approximate the contour(CHAIN_APPROX_SIMPLE, CHAIN_AAPROX_SIMPLE)\n",
    "#There are 2 Output of findContours() function i.e. contours list and heirarchy of contours\n",
    "(cnts, _) = cv2.findContours(edged.copy(), cv2.RETR_EXTERNAL, cv2.CHAIN_APPROX_SIMPLE)\n",
    "\n",
    "#Conting number of External contours(coins) finded by our algorithm\n",
    "print(\"I count {} coins in this image\".format(len(cnts)))"
   ]
  },
  {
   "cell_type": "code",
   "execution_count": 6,
   "metadata": {},
   "outputs": [],
   "source": [
    "#Drawing contours on our real image for visualization\n",
    "#using cv2.drawContours(image, contours, index, color, line thickness)\n",
    "#here index represent the index of contour we want to print(-1 means all contours)\n",
    "coins = cv2.imread('coins.jpg')\n",
    "cv2.drawContours(coins, cnts, -1, (0, 255, 0), 2)\n",
    "\n",
    "cv2.imshow(\"Coins\", coins)\n",
    "cv2.waitKey(0)\n",
    "cv2.destroyAllWindows()"
   ]
  },
  {
   "cell_type": "code",
   "execution_count": 9,
   "metadata": {},
   "outputs": [],
   "source": [
    "#Now lets crop a coin seprately\n",
    "#Lets say index number 24\n",
    "#we are using cv2.boundingRect() function here, it has only one argument i.e. contour\n",
    "#it return 4 outputs start_X, start_Y, width_of_rectangle, height_of_rectangle\n",
    "(x, y, w, h) = cv2.boundingRect(cnts[24])\n",
    "coin = image[y:y+h, x:x+w]\n",
    "\n",
    "cv2.imshow(\"Rectangle Coin area\", coin)\n",
    "cv2.waitKey(0)\n",
    "cv2.destroyAllWindows()"
   ]
  },
  {
   "cell_type": "code",
   "execution_count": 10,
   "metadata": {},
   "outputs": [],
   "source": [
    "#lets cut the coin properly in a circular shape\n",
    "#we will use cv2.minEnclosingCircle() function here, it has only one argument i.e. contour\n",
    "#it return 3 outputs ((centerX, centerY), radius)\n",
    "((centerX, centerY), radius) = cv2.minEnclosingCircle(cnts[24])\n",
    "\n",
    "#Now we how to mask our image to separate our coin\n",
    "mask = np.zeros(image.shape[:2], dtype='uint8')\n",
    "cv2.circle(mask, (int(centerX), int(centerY)), int(radius), 255, -1)\n",
    "coin = cv2.bitwise_and(image, image, mask = mask)\n",
    "coin = coin[y:y+h, x:x+w]\n",
    "\n",
    "cv2.imshow(\"Seprate Coin\", coin)\n",
    "cv2.waitKey(0)\n",
    "cv2.destroyAllWindows()"
   ]
  },
  {
   "cell_type": "code",
   "execution_count": null,
   "metadata": {},
   "outputs": [],
   "source": []
  }
 ],
 "metadata": {
  "kernelspec": {
   "display_name": "Python 3",
   "language": "python",
   "name": "python3"
  },
  "language_info": {
   "codemirror_mode": {
    "name": "ipython",
    "version": 3
   },
   "file_extension": ".py",
   "mimetype": "text/x-python",
   "name": "python",
   "nbconvert_exporter": "python",
   "pygments_lexer": "ipython3",
   "version": "3.7.7"
  }
 },
 "nbformat": 4,
 "nbformat_minor": 4
}
