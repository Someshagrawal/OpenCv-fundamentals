{
 "cells": [
  {
   "cell_type": "code",
   "execution_count": 1,
   "metadata": {},
   "outputs": [],
   "source": [
    "import numpy as np\n",
    "import cv2"
   ]
  },
  {
   "cell_type": "code",
   "execution_count": 2,
   "metadata": {},
   "outputs": [],
   "source": [
    "#Lets create two dummy images to explore Bitwise operations\n",
    "\n",
    "#First Image\n",
    "rectangle = np.zeros((300, 300), dtype='uint8')\n",
    "cv2.rectangle(rectangle, (25, 25), (275, 275), 255, -1)\n",
    "\n",
    "cv2.imshow('rectangle', rectangle)\n",
    "cv2.waitKey(0)\n",
    "cv2.destroyAllWindows()"
   ]
  },
  {
   "cell_type": "code",
   "execution_count": 3,
   "metadata": {},
   "outputs": [],
   "source": [
    "#Second Image\n",
    "circle = np.zeros((300, 300), dtype='uint8')\n",
    "cv2.circle(circle, (150, 150), 150, 255, -1)\n",
    "\n",
    "cv2.imshow('Circle', circle)\n",
    "cv2.waitKey(0)\n",
    "cv2.destroyAllWindows()"
   ]
  },
  {
   "cell_type": "code",
   "execution_count": 4,
   "metadata": {},
   "outputs": [],
   "source": [
    "#Lets start visualizing Bitwise operations\n",
    "\n",
    "#Bitwise And\n",
    "bitwiseAnd = cv2.bitwise_and(rectangle, circle)\n",
    "\n",
    "cv2.imshow('Bitwise And', bitwiseAnd)\n",
    "cv2.waitKey(0)\n",
    "cv2.destroyAllWindows()"
   ]
  },
  {
   "cell_type": "code",
   "execution_count": 5,
   "metadata": {},
   "outputs": [],
   "source": [
    "#Bitwise or\n",
    "bitwiseOr = cv2.bitwise_or(rectangle, circle)\n",
    "\n",
    "cv2.imshow('Bitwise OR', bitwiseOr)\n",
    "cv2.waitKey(0)\n",
    "cv2.destroyAllWindows()"
   ]
  },
  {
   "cell_type": "code",
   "execution_count": 6,
   "metadata": {},
   "outputs": [],
   "source": [
    "#Bitwise Xor\n",
    "bitwiseXor = cv2.bitwise_xor(rectangle, circle)\n",
    "\n",
    "cv2.imshow('Bitwise Xor', bitwiseXor)\n",
    "cv2.waitKey(0)\n",
    "cv2.destroyAllWindows()"
   ]
  },
  {
   "cell_type": "code",
   "execution_count": 7,
   "metadata": {},
   "outputs": [],
   "source": [
    "#Bitwise not\n",
    "#Remember not is a urinary operation\n",
    "bitwiseNot = cv2.bitwise_not(circle)\n",
    "\n",
    "cv2.imshow('Bitwise Not', bitwiseNot)\n",
    "cv2.waitKey(0)\n",
    "cv2.destroyAllWindows()"
   ]
  },
  {
   "cell_type": "code",
   "execution_count": null,
   "metadata": {},
   "outputs": [],
   "source": []
  }
 ],
 "metadata": {
  "kernelspec": {
   "display_name": "Python 3",
   "language": "python",
   "name": "python3"
  },
  "language_info": {
   "codemirror_mode": {
    "name": "ipython",
    "version": 3
   },
   "file_extension": ".py",
   "mimetype": "text/x-python",
   "name": "python",
   "nbconvert_exporter": "python",
   "pygments_lexer": "ipython3",
   "version": "3.7.7"
  }
 },
 "nbformat": 4,
 "nbformat_minor": 4
}
