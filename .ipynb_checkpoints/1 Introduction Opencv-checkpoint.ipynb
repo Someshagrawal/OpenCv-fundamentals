{
 "cells": [
  {
   "cell_type": "code",
   "execution_count": 1,
   "metadata": {},
   "outputs": [],
   "source": [
    "#Importing cv2 (opencv) module\n",
    "import cv2"
   ]
  },
  {
   "cell_type": "code",
   "execution_count": 2,
   "metadata": {},
   "outputs": [],
   "source": [
    "#Reading a image from system and saving it as 'img'\n",
    "#opencv treats images as numpy array\n",
    "#A image contains rows(height), colums(width) and channels(RGB colors)\n",
    "#A pixel is a combination of RGB colors\n",
    "img = cv2.imread(\"test.jpeg\")"
   ]
  },
  {
   "cell_type": "code",
   "execution_count": 3,
   "metadata": {},
   "outputs": [
    {
     "name": "stdout",
     "output_type": "stream",
     "text": [
      "Width : 590\n"
     ]
    }
   ],
   "source": [
    "#Printing its width \n",
    "#Remember width of our image is the number of columns it has\n",
    "print('Width : {}'.format(img.shape[1]))"
   ]
  },
  {
   "cell_type": "code",
   "execution_count": 4,
   "metadata": {},
   "outputs": [
    {
     "name": "stdout",
     "output_type": "stream",
     "text": [
      "Height : 393\n"
     ]
    }
   ],
   "source": [
    "#Printing its height\n",
    "#Remember height of our image is the number of rows it has\n",
    "print('Height : {}'.format(img.shape[0]))"
   ]
  },
  {
   "cell_type": "code",
   "execution_count": 5,
   "metadata": {},
   "outputs": [
    {
     "name": "stdout",
     "output_type": "stream",
     "text": [
      "Channels : 3\n"
     ]
    }
   ],
   "source": [
    "#For each pixel in our image we has a combination of 3 values here(Red, Green and Blue)\n",
    "print('Channels : {}'.format(img.shape[2]))"
   ]
  },
  {
   "cell_type": "code",
   "execution_count": 18,
   "metadata": {},
   "outputs": [
    {
     "data": {
      "text/plain": [
       "13"
      ]
     },
     "execution_count": 18,
     "metadata": {},
     "output_type": "execute_result"
    }
   ],
   "source": [
    "#Displaying our image\n",
    "#To display we use cv2.imshow('Title of image', image) function\n",
    "#we also use cv2.waitKey(0) function to halt code execution as well as our image untill we press any button\n",
    "#then we use cv2.destroyAllWindows() function to close all windows that cv2 opens\n",
    "cv2.imshow('Image', img)\n",
    "cv2.waitKey(0)\n",
    "cv2.destroyAllWindows()"
   ]
  },
  {
   "cell_type": "code",
   "execution_count": 8,
   "metadata": {},
   "outputs": [],
   "source": [
    "#Getting RGB values of the first pixel of our image\n",
    "#Remember opencv has BGR format instead of RGB format to store colours\n",
    "#This means the 1st value corresponds to Blue color, 2nd value corresponds to Green color and 3rd value corresponds to Red color\n",
    "(b, g, r) = img[0, 0]"
   ]
  },
  {
   "cell_type": "code",
   "execution_count": 9,
   "metadata": {},
   "outputs": [
    {
     "name": "stdout",
     "output_type": "stream",
     "text": [
      "Pixel at (0, 0) - Red: 86, Green: 136, Blue: 47\n"
     ]
    }
   ],
   "source": [
    "print(\"Pixel at (0, 0) - Red: {}, Green: {}, Blue: {}\".format(r, g, b))"
   ]
  },
  {
   "cell_type": "code",
   "execution_count": 10,
   "metadata": {},
   "outputs": [],
   "source": [
    "#Changing first pixel to pure Red color \n",
    "img[0, 0] = (0, 0, 255)"
   ]
  },
  {
   "cell_type": "code",
   "execution_count": 11,
   "metadata": {},
   "outputs": [],
   "source": [
    "(b, g, r) = img[0, 0]"
   ]
  },
  {
   "cell_type": "code",
   "execution_count": 12,
   "metadata": {},
   "outputs": [
    {
     "name": "stdout",
     "output_type": "stream",
     "text": [
      "Pixel at (0, 0) - Red: 255, Green: 0, Blue: 0\n"
     ]
    }
   ],
   "source": [
    "print(\"Pixel at (0, 0) - Red: {}, Green: {}, Blue: {}\".format(r, g, b))"
   ]
  },
  {
   "cell_type": "code",
   "execution_count": 13,
   "metadata": {},
   "outputs": [],
   "source": [
    "#getting a 100x100 corner portion of our image\n",
    "corner = img[0:100, 0:100]"
   ]
  },
  {
   "cell_type": "code",
   "execution_count": 14,
   "metadata": {},
   "outputs": [],
   "source": [
    "#Displaing corner\n",
    "cv2.imshow(\"Corner\", corner)"
   ]
  },
  {
   "cell_type": "code",
   "execution_count": 15,
   "metadata": {},
   "outputs": [],
   "source": [
    "#Changing all pixels of corner with Green color\n",
    "img[0:100, 0:100] = (0, 255, 0)"
   ]
  },
  {
   "cell_type": "code",
   "execution_count": 16,
   "metadata": {},
   "outputs": [
    {
     "data": {
      "text/plain": [
       "13"
      ]
     },
     "execution_count": 16,
     "metadata": {},
     "output_type": "execute_result"
    }
   ],
   "source": [
    "#Displaing new updated image\n",
    "cv2.imshow('Updated', img)\n",
    "cv2.waitKey(0)\n",
    "cv2.destroyAllWindows()"
   ]
  }
 ],
 "metadata": {
  "kernelspec": {
   "display_name": "Python 3",
   "language": "python",
   "name": "python3"
  },
  "language_info": {
   "codemirror_mode": {
    "name": "ipython",
    "version": 3
   },
   "file_extension": ".py",
   "mimetype": "text/x-python",
   "name": "python",
   "nbconvert_exporter": "python",
   "pygments_lexer": "ipython3",
   "version": "3.7.7"
  }
 },
 "nbformat": 4,
 "nbformat_minor": 4
}
