{
 "cells": [
  {
   "cell_type": "code",
   "execution_count": 1,
   "metadata": {},
   "outputs": [],
   "source": [
    "import numpy as np\n",
    "import cv2"
   ]
  },
  {
   "cell_type": "code",
   "execution_count": 2,
   "metadata": {},
   "outputs": [],
   "source": [
    "#Importing the test image\n",
    "img = cv2.imread('test.jpeg')\n",
    "cv2.imshow('Image', img)\n",
    "cv2.waitKey(0)\n",
    "cv2.destroyAllWindows()"
   ]
  },
  {
   "cell_type": "code",
   "execution_count": 3,
   "metadata": {},
   "outputs": [],
   "source": [
    "#Finding aspect ratio to rezise properly in same ratio using width\n",
    "r = 150 / img.shape[1]"
   ]
  },
  {
   "cell_type": "code",
   "execution_count": 4,
   "metadata": {},
   "outputs": [],
   "source": [
    "#Defining dimensions of new image\n",
    "dim = (150, int(img.shape[0] * r))"
   ]
  },
  {
   "cell_type": "code",
   "execution_count": 5,
   "metadata": {},
   "outputs": [],
   "source": [
    "#Finally rezising the image\n",
    "#We use resized function of cv2 library here\n",
    "#Its 1st argument is image, 2nd argument is dimensions and\n",
    "#The last parameter is our interpolation method, which is the algorithm working behind the scenes to handle how the\n",
    "#actual image is resized\n",
    "#Here we are using cv2.INTER_AREA because it gives the best results\n",
    "#other appropriate choice are cv2.INTER_LINEAR, cv2.INTER_CUBIC, and cv2.INTER_NEAREST\n",
    "\n",
    "resized = cv2.resize(img, dim, interpolation = cv2.INTER_AREA)"
   ]
  },
  {
   "cell_type": "code",
   "execution_count": 6,
   "metadata": {},
   "outputs": [],
   "source": [
    "#Lets see our resized image\n",
    "cv2.imshow('Resized Image', resized)\n",
    "cv2.waitKey(0)\n",
    "cv2.destroyAllWindows()"
   ]
  },
  {
   "cell_type": "code",
   "execution_count": 7,
   "metadata": {},
   "outputs": [],
   "source": [
    "#Above we are resizing with width\n",
    "#Lets resize using height\n",
    "r = 100 / img.shape[0]\n",
    "dim = (int(img.shape[1] * r), 100)\n",
    "\n",
    "resized = cv2.resize(img, dim, interpolation = cv2.INTER_AREA)\n",
    "\n",
    "cv2.imshow('Resized Image', resized)\n",
    "cv2.waitKey(0)\n",
    "cv2.destroyAllWindows()"
   ]
  },
  {
   "cell_type": "code",
   "execution_count": 8,
   "metadata": {},
   "outputs": [],
   "source": [
    "#Lets create a function to archieve it smothly\n",
    "def resize(image, width=None, height=None, inter=cv2.INTER_AREA):\n",
    "    \n",
    "    (h, w) = image.shape[0:2]\n",
    "    \n",
    "    if width is None and height is None:\n",
    "        return image\n",
    "    \n",
    "    if width is None:\n",
    "        r = height / float(h)\n",
    "        dim = (int(h * r), height)\n",
    "    \n",
    "    else:\n",
    "        r = width / float(w)\n",
    "        dim = (width, int(w *r))\n",
    "    \n",
    "    resized = cv2.resize(image, dim, interpolation = inter)\n",
    "    return resized"
   ]
  },
  {
   "cell_type": "code",
   "execution_count": 9,
   "metadata": {},
   "outputs": [],
   "source": [
    "#Using our function\n",
    "resized = resize(img, width=400)\n",
    "cv2.imshow('Resized Image', resized)\n",
    "cv2.waitKey(0)\n",
    "cv2.destroyAllWindows()"
   ]
  },
  {
   "cell_type": "code",
   "execution_count": null,
   "metadata": {},
   "outputs": [],
   "source": []
  }
 ],
 "metadata": {
  "kernelspec": {
   "display_name": "Python 3",
   "language": "python",
   "name": "python3"
  },
  "language_info": {
   "codemirror_mode": {
    "name": "ipython",
    "version": 3
   },
   "file_extension": ".py",
   "mimetype": "text/x-python",
   "name": "python",
   "nbconvert_exporter": "python",
   "pygments_lexer": "ipython3",
   "version": "3.7.7"
  }
 },
 "nbformat": 4,
 "nbformat_minor": 4
}
